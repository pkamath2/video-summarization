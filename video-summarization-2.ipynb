{
 "cells": [
  {
   "cell_type": "code",
   "execution_count": 2,
   "id": "c72258b1-4ca6-4d4f-b6e8-d7eaced53d7a",
   "metadata": {},
   "outputs": [],
   "source": [
    "import numpy as np\n",
    "import pandas as pd\n",
    "import matplotlib.pyplot as plt\n",
    "import math, json, os\n",
    "import torch\n",
    "import itertools\n",
    "from sentence_transformers import SentenceTransformer\n",
    "import ffmpeg\n"
   ]
  },
  {
   "cell_type": "code",
   "execution_count": null,
   "id": "62a507e5-8bbb-4d33-b56f-5e997b880289",
   "metadata": {},
   "outputs": [],
   "source": []
  },
  {
   "cell_type": "markdown",
   "id": "348146c2-e5e7-4e20-ab34-f1a5c523a2b5",
   "metadata": {},
   "source": [
    "# 1. Get transcript from Video. Here I use Deepgram - https://console.deepgram.com/"
   ]
  },
  {
   "cell_type": "code",
   "execution_count": 4,
   "id": "48c344a9-8ba4-4067-8a9b-40880268099b",
   "metadata": {},
   "outputs": [
    {
     "data": {
      "text/plain": [
       "(79, 79)"
      ]
     },
     "execution_count": 4,
     "metadata": {},
     "output_type": "execute_result"
    }
   ],
   "source": [
    "with open(\"resources/videos/NUSFutureWork-Deepgram.json\") as f:\n",
    "    deepgram_json = json.load(f)\n",
    "f.close()\n",
    "\n",
    "transcript = deepgram_json['results']['channels'][0]['alternatives'][0]['transcript']\n",
    "paragraphs = deepgram_json['results']['channels'][0]['alternatives'][0]['paragraphs']\n",
    "sentences_obj = [_ for _ in list(itertools.chain(*[para['sentences'] for para in paragraphs['paragraphs']]))] # needed for start and end times\n",
    "sentences = [_['text'] for _ in list(itertools.chain(*[para['sentences'] for para in paragraphs['paragraphs']]))]\n",
    "sentence_lengths = [int((_['end']-_['start'])*1) for _ in list(itertools.chain(*[para['sentences'] for para in paragraphs['paragraphs']]))]\n",
    "\n",
    "## print script sentences\n",
    "# for sentence in sentences:\n",
    "#     print(sentence)\n",
    "\n",
    "len(sentences), len(sentence_lengths)"
   ]
  },
  {
   "cell_type": "code",
   "execution_count": null,
   "id": "356b87a0-3b88-4fff-a533-486c1ab9bcf4",
   "metadata": {},
   "outputs": [],
   "source": []
  },
  {
   "cell_type": "markdown",
   "id": "7c2e6fc0-a8c5-4777-9c0f-86e7a7523268",
   "metadata": {},
   "source": [
    "# 2. Generate summary using any LLM. Here I use ChatGPT. \n",
    "\n",
    "## ChatGPT Prompt ==> 'Summarize this transcript \"<contents>\". In the summary, use very short sentences. Each sentence must be a distinct topic in the transcript. Do not use abbreviations and titles.'"
   ]
  },
  {
   "cell_type": "code",
   "execution_count": 7,
   "id": "090d9ac0-e4a9-4e81-acfa-88d378591603",
   "metadata": {},
   "outputs": [],
   "source": [
    "chat_gpt_summary =  \"The event welcomed attendees to the second National University of Singapore Lifelong Learning Festival, themed Future Work 2 point 0: AI in Action. The opening remarks emphasized the importance of embracing artificial intelligence's transformative potential across industries. The University’s President highlighted the growing impact of artificial intelligence, likening it to earlier technological revolutions like personal computers and the internet. The University has been proactive in integrating artificial intelligence across its programs. It launched the National University of Singapore AI Institute to foster research and collaborations with industry and government. The institution also developed policies and training initiatives to guide staff and students on using artificial intelligence in education, including workshops on generative AI for course design and assessment. Moreover, the University’s administrative departments use artificial intelligence to enhance productivity. Staff training in data literacy and artificial intelligence has reached thousands, preparing employees for AI-driven tasks. The University also supports lifelong learning through a wide selection of courses, certificates, and modular learning options in artificial intelligence and other fields. Recognizing the cost of education as a barrier, the University announced a 40% tuition fee rebate for Singaporeans and permanent residents on over 80 master’s programs. The speaker concluded with a call to use artificial intelligence to empower, rather than replace, human workers. The event closed with thanks to the School of Continuing and Lifelong Learning and all participants.\"\n",
    "chatgpt_summary_sentences = []\n",
    "\n",
    "for sentence in chat_gpt_summary.split(\".\"):\n",
    "    if len(sentence) > 0:\n",
    "        chatgpt_summary_sentences.append(sentence.strip()+\".\")\n",
    "\n",
    "# print(chatgpt_summary_sentences)"
   ]
  },
  {
   "cell_type": "code",
   "execution_count": null,
   "id": "bd9cdc10-adb0-4ff7-9bdc-a6150336f8bb",
   "metadata": {},
   "outputs": [],
   "source": []
  },
  {
   "cell_type": "markdown",
   "id": "8b4f764a-6de5-4a2b-8cc4-f2049e526915",
   "metadata": {},
   "source": [
    "# 3. Score each sentence in the original transcript to its similarity to each summary sentence"
   ]
  },
  {
   "cell_type": "code",
   "execution_count": 9,
   "id": "644580b9-bd3c-4a94-84aa-91de5f46e733",
   "metadata": {},
   "outputs": [],
   "source": [
    "# 1. Load a pretrained Sentence Transformer model\n",
    "model = SentenceTransformer(\"all-MiniLM-L6-v2\")"
   ]
  },
  {
   "cell_type": "code",
   "execution_count": 10,
   "id": "9dece4e8-758c-4851-9038-61cf1c0d1f27",
   "metadata": {},
   "outputs": [],
   "source": [
    "chatgpt_embeddings = model.encode(chatgpt_summary_sentences)\n",
    "sentences_embeddings = model.encode(sentences)"
   ]
  },
  {
   "cell_type": "code",
   "execution_count": 12,
   "id": "1a94c120-cbfe-45b1-ad44-609fa51ed1bf",
   "metadata": {},
   "outputs": [],
   "source": [
    "# Two ways of similarity. Any one is ok!\n",
    "\n",
    "similarities = model.similarity(chatgpt_embeddings, sentences_embeddings) # Not used\n",
    "for ind1, similarity in enumerate(similarities):\n",
    "    for ind2, s in enumerate(similarity):\n",
    "        # similarities[ind1][ind2] = s * sentence_lengths[ind2]# Dont do this. Sentence len is skewing up things.\n",
    "        similarities[ind1][ind2] = s \n",
    "\n",
    "cos = torch.nn.CosineSimilarity(dim=0, eps=1e-6)\n",
    "cos_similarities = []\n",
    "for chatgpt_embedding in chatgpt_embeddings:\n",
    "    chatgpt_sim = []\n",
    "    for ind, sentences_embedding in enumerate(sentences_embeddings):\n",
    "        # chatgpt_sim.append(cos(torch.from_numpy(chatgpt_embedding), torch.from_numpy(sentences_embedding)).numpy()*sentence_lengths[ind]) # Dont do this. Sentence len is skewing up things.\n",
    "        chatgpt_sim.append(cos(torch.from_numpy(chatgpt_embedding), torch.from_numpy(sentences_embedding)).numpy()*sentence_lengths[ind])\n",
    "    cos_similarities.append(chatgpt_sim)"
   ]
  },
  {
   "cell_type": "code",
   "execution_count": 13,
   "id": "377feda8-3659-46d7-8c6f-4c34222062ff",
   "metadata": {},
   "outputs": [
    {
     "data": {
      "text/plain": [
       "(12, 12)"
      ]
     },
     "execution_count": 13,
     "metadata": {},
     "output_type": "execute_result"
    }
   ],
   "source": [
    "len(similarities), len(cos_similarities)"
   ]
  },
  {
   "cell_type": "code",
   "execution_count": 14,
   "id": "47560adb-7204-4824-8631-2d1441b59deb",
   "metadata": {},
   "outputs": [
    {
     "name": "stdout",
     "output_type": "stream",
     "text": [
      "The event welcomed attendees to the second National University of Singapore Lifelong Learning Festival, themed Future Work 2 point 0: AI in Action. ==> The theme for this year's learning festival is Future Work 2.0, AI in Action. tensor(0.7325) 7\n",
      "--------\n",
      "The opening remarks emphasized the importance of embracing artificial intelligence's transformative potential across industries. ==> It may sound like a paradox, but AI is for real and in action, transforming work and industries. tensor(0.6801) 8\n",
      "--------\n",
      "The University’s President highlighted the growing impact of artificial intelligence, likening it to earlier technological revolutions like personal computers and the internet. ==> And this brings together AI researchers from across the university to accelerate frontier AI research as well as to boost real world impact. tensor(0.6425) 12\n",
      "--------\n",
      "The University has been proactive in integrating artificial intelligence across its programs. ==> NUS has also been proactively guiding and encouraging the integration of AI in our teaching and learning. tensor(0.6053) 10\n",
      "--------\n",
      "It launched the National University of Singapore AI Institute to foster research and collaborations with industry and government. ==> This AI Institute will foster a vibrant ecosystem that promotes synergistic AI research and applications, as well as to grow the AI talent pool and to engage government as well as industry in partnerships. tensor(0.6432) 18\n",
      "--------\n",
      "The institution also developed policies and training initiatives to guide staff and students on using artificial intelligence in education, including workshops on generative AI for course design and assessment. ==> And since the beginning of this year, the Center For Training, Learning, and Technology has been offering a range of AI workshops on topics such as using generative AI for course design, question generation and assessments. tensor(0.7725) 19\n",
      "--------\n",
      "Moreover, the University’s administrative departments use artificial intelligence to enhance productivity. ==> And NUS IT has also worked with departments to use AI to improve productivity across a wide range of use cases. tensor(0.6097) 10\n",
      "--------\n",
      "Staff training in data literacy and artificial intelligence has reached thousands, preparing employees for AI-driven tasks. ==> So I'm pleased to share that close to 5,000 admin staff have completed, the first level of data literacy course, as well as the first level of AI competency course. tensor(0.6819) 16\n",
      "--------\n",
      "The University also supports lifelong learning through a wide selection of courses, certificates, and modular learning options in artificial intelligence and other fields. ==> Besides AI, learners can explore a wide range of continuing education and training, or CET courses offered by NUS across many areas. tensor(0.6216) 13\n",
      "--------\n",
      "Recognizing the cost of education as a barrier, the University announced a 40% tuition fee rebate for Singaporeans and permanent residents on over 80 master’s programs. ==> To further encourage Singaporeans to engage in CET, I'm pleased to announce that NUS will be providing a 40% tuition fee rebate on more than 80 master's degree programs to all Singapore citizens and Singapore permanent residents. tensor(0.7397) 25\n",
      "--------\n",
      "The speaker concluded with a call to use artificial intelligence to empower, rather than replace, human workers. ==> Let us instead put the robots and AI to work, master the new technology, integrate it smartly into our work processes, let robots and AI superpower us at the workplace. tensor(0.6129) 17\n",
      "--------\n",
      "The event closed with thanks to the School of Continuing and Lifelong Learning and all participants. ==> Without much ado, I would like to thank the school of continuing and lifelong learning for putting this event together. tensor(0.6591) 8\n",
      "--------\n"
     ]
    }
   ],
   "source": [
    "# For each summary sentence print the sentence from the original transcript which max similarity score. i.e., print the sentence in the orig transcript which encompasses max topic similarity to the summary sentence. \n",
    "for i in range(len(chatgpt_summary_sentences)):\n",
    "    print(chatgpt_summary_sentences[i], '==>', \\\n",
    "          sentences[np.argmax(similarities[i])], \\\n",
    "          similarities[i][np.argmax(similarities[i])], \\\n",
    "          sentence_lengths[np.argmax(similarities[i])])\n",
    "    print('--------')"
   ]
  },
  {
   "cell_type": "code",
   "execution_count": 15,
   "id": "8ed46c98-e391-4559-83a7-2947ee177e31",
   "metadata": {},
   "outputs": [
    {
     "data": {
      "text/plain": [
       "(12, 12, 79, 79)"
      ]
     },
     "execution_count": 15,
     "metadata": {},
     "output_type": "execute_result"
    }
   ],
   "source": [
    "len(cos_similarities), len(chatgpt_summary_sentences), len(sentence_lengths), len(sentences)"
   ]
  },
  {
   "cell_type": "code",
   "execution_count": null,
   "id": "169ad3c6-81aa-46c9-b478-9e83a35184c5",
   "metadata": {},
   "outputs": [],
   "source": []
  },
  {
   "cell_type": "markdown",
   "id": "1bdeb501-25f6-4c53-bddc-071f2346b72f",
   "metadata": {},
   "source": [
    "# 4. Define capacity (in seconds) and run knapsack DP"
   ]
  },
  {
   "cell_type": "code",
   "execution_count": 16,
   "id": "3e1fec81-f60e-4032-bc42-71151e693a18",
   "metadata": {},
   "outputs": [],
   "source": [
    "capacity = 30 #40 seconds | capacity\n",
    "\n",
    "#knapsack problem"
   ]
  },
  {
   "cell_type": "code",
   "execution_count": 17,
   "id": "69cf193a-1a4b-4ae9-87ae-dfadad0f20ce",
   "metadata": {},
   "outputs": [],
   "source": [
    "items = [] # sentences\n",
    "weights = [] # sentence lengths\n",
    "values = [] # similarities\n",
    "\n",
    "item_starts = [] #start and stop times in video\n",
    "item_ends = []\n",
    "\n",
    "for i in range(len(chatgpt_summary_sentences)):\n",
    "    items.append(sentences[np.argmax(similarities[i])])\n",
    "    weights.append(sentence_lengths[np.argmax(similarities[i])])\n",
    "    values.append(similarities[i][np.argmax(similarities[i])])\n",
    "\n",
    "    item_starts.append(sentences_obj[np.argmax(similarities[i])]['start'])\n",
    "    item_ends.append(sentences_obj[np.argmax(similarities[i])]['end'])\n"
   ]
  },
  {
   "cell_type": "code",
   "execution_count": 18,
   "id": "4d9fc756-b54a-40b7-a4db-ee66489a8d9f",
   "metadata": {},
   "outputs": [],
   "source": [
    "n = len(items)\n",
    "dp = [[0 for i in range(capacity+1)] for w in range(n+1)] #15 X 401"
   ]
  },
  {
   "cell_type": "code",
   "execution_count": 19,
   "id": "ef8303f5-b231-45d2-a073-2bceb247c5aa",
   "metadata": {},
   "outputs": [],
   "source": [
    "for i in range(n+1):\n",
    "    for w in range(capacity+1):\n",
    "        if i==0 or w==0:\n",
    "            dp[i][w] = 0\n",
    "        elif weights[i-1] <= w:\n",
    "            dp[i][w] = max(values[i-1]+dp[i-1][w-weights[i-1]], dp[i-1][w])\n",
    "        else:\n",
    "            dp[i][w] = dp[i-1][w]\n",
    "    w = capacity\n",
    "    chosen_items = []\n",
    "\n",
    "    for i in range(n, 0, -1):\n",
    "        if dp[i][w] != dp[i-1][w]:\n",
    "            chosen_items.append(items[i-1])\n",
    "            w -= weights[i-1]\n",
    "    total_value = dp[n][capacity]"
   ]
  },
  {
   "cell_type": "code",
   "execution_count": 21,
   "id": "68f66897-3d71-4a89-8327-5932c2445766",
   "metadata": {},
   "outputs": [
    {
     "data": {
      "text/plain": [
       "([\"The theme for this year's learning festival is Future Work 2.0, AI in Action.\",\n",
       "  'It may sound like a paradox, but AI is for real and in action, transforming work and industries.',\n",
       "  'Without much ado, I would like to thank the school of continuing and lifelong learning for putting this event together.'],\n",
       " tensor(2.0718))"
      ]
     },
     "execution_count": 21,
     "metadata": {},
     "output_type": "execute_result"
    }
   ],
   "source": [
    "chosen_items[::-1], total_value"
   ]
  },
  {
   "cell_type": "code",
   "execution_count": null,
   "id": "1912863f-356a-4dd2-812c-b53cf6e77bdd",
   "metadata": {},
   "outputs": [],
   "source": []
  },
  {
   "cell_type": "markdown",
   "id": "23399a64-61cc-44dc-8b80-cb1968b70671",
   "metadata": {},
   "source": [
    "# 5. Final video clips for final summary video based on chosen items"
   ]
  },
  {
   "cell_type": "code",
   "execution_count": 24,
   "id": "3d58dcfe-d858-4acf-bbd5-5b3506cb4b65",
   "metadata": {},
   "outputs": [
    {
     "name": "stderr",
     "output_type": "stream",
     "text": [
      "huggingface/tokenizers: The current process just got forked, after parallelism has already been used. Disabling parallelism to avoid deadlocks...\n",
      "To disable this warning, you can either:\n",
      "\t- Avoid using `tokenizers` before the fork if possible\n",
      "\t- Explicitly set the environment variable TOKENIZERS_PARALLELISM=(true | false)\n"
     ]
    },
    {
     "data": {
      "text/plain": [
       "(25, '25/1')"
      ]
     },
     "execution_count": 24,
     "metadata": {},
     "output_type": "execute_result"
    }
   ],
   "source": [
    "probe = ffmpeg.probe('resources/videos/NUS FutureWork.mp4')\n",
    "video_info = next(s for s in probe['streams'] if s['codec_type'] == 'video')\n",
    "fps = int(video_info['r_frame_rate'].split('/')[0])\n",
    "fps, video_info['r_frame_rate']"
   ]
  },
  {
   "cell_type": "code",
   "execution_count": 28,
   "id": "be3fb183-9f47-4c8b-a6e6-42c51f0b3699",
   "metadata": {
    "scrolled": true
   },
   "outputs": [
    {
     "name": "stdout",
     "output_type": "stream",
     "text": [
      "4603.625 4796.125\n"
     ]
    },
    {
     "name": "stderr",
     "output_type": "stream",
     "text": [
      "huggingface/tokenizers: The current process just got forked, after parallelism has already been used. Disabling parallelism to avoid deadlocks...\n",
      "To disable this warning, you can either:\n",
      "\t- Avoid using `tokenizers` before the fork if possible\n",
      "\t- Explicitly set the environment variable TOKENIZERS_PARALLELISM=(true | false)\n",
      "ffmpeg version 7.1 Copyright (c) 2000-2024 the FFmpeg developers\n",
      "  built with Apple clang version 16.0.0 (clang-1600.0.26.4)\n",
      "  configuration: --prefix=/usr/local/Cellar/ffmpeg/7.1_3 --enable-shared --enable-pthreads --enable-version3 --cc=clang --host-cflags= --host-ldflags='-Wl,-ld_classic' --enable-ffplay --enable-gnutls --enable-gpl --enable-libaom --enable-libaribb24 --enable-libbluray --enable-libdav1d --enable-libharfbuzz --enable-libjxl --enable-libmp3lame --enable-libopus --enable-librav1e --enable-librist --enable-librubberband --enable-libsnappy --enable-libsrt --enable-libssh --enable-libsvtav1 --enable-libtesseract --enable-libtheora --enable-libvidstab --enable-libvmaf --enable-libvorbis --enable-libvpx --enable-libwebp --enable-libx264 --enable-libx265 --enable-libxml2 --enable-libxvid --enable-lzma --enable-libfontconfig --enable-libfreetype --enable-frei0r --enable-libass --enable-libopencore-amrnb --enable-libopencore-amrwb --enable-libopenjpeg --enable-libspeex --enable-libsoxr --enable-libzmq --enable-libzimg --disable-libjack --disable-indev=jack --enable-videotoolbox --enable-audiotoolbox\n",
      "  libavutil      59. 39.100 / 59. 39.100\n",
      "  libavcodec     61. 19.100 / 61. 19.100\n",
      "  libavformat    61.  7.100 / 61.  7.100\n",
      "  libavdevice    61.  3.100 / 61.  3.100\n",
      "  libavfilter    10.  4.100 / 10.  4.100\n",
      "  libswscale      8.  3.100 /  8.  3.100\n",
      "  libswresample   5.  3.100 /  5.  3.100\n",
      "  libpostproc    58.  3.100 / 58.  3.100\n",
      "Input #0, mov,mp4,m4a,3gp,3g2,mj2, from 'resources/videos/NUS FutureWork.mp4':\n",
      "  Metadata:\n",
      "    major_brand     : isom\n",
      "    minor_version   : 512\n",
      "    compatible_brands: isomiso2avc1mp41\n",
      "    encoder         : Lavf58.45.100\n",
      "  Duration: 00:15:42.30, start: 0.000000, bitrate: 1787 kb/s\n",
      "  Stream #0:0[0x1](eng): Video: h264 (High) (avc1 / 0x31637661), yuv420p(progressive), 1920x1080 [SAR 1:1 DAR 16:9], 1650 kb/s, 25 fps, 25 tbr, 12800 tbn (default)\n",
      "      Metadata:\n",
      "        handler_name    : VideoHandler\n",
      "        vendor_id       : [0][0][0][0]\n",
      "  Stream #0:1[0x2](eng): Audio: aac (LC) (mp4a / 0x6134706D), 48000 Hz, stereo, fltp, 130 kb/s (default)\n",
      "      Metadata:\n",
      "        handler_name    : SoundHandler\n",
      "        vendor_id       : [0][0][0][0]\n",
      "Stream mapping:\n",
      "  Stream #0:0 (h264) -> trim:default\n",
      "  Stream #0:1 (aac) -> atrim:default\n",
      "  concat -> Stream #0:0 (aac)\n",
      "  concat -> Stream #0:1 (libx264)\n",
      "Press [q] to stop, [?] for help\n",
      "[libx264 @ 0x7fc830706040] using SAR=1/1\n",
      "[libx264 @ 0x7fc830706040] MB rate (8160000000) > level limit (16711680)\n",
      "[libx264 @ 0x7fc830706040] using cpu capabilities: MMX2 SSE2Fast SSSE3 SSE4.2 AVX FMA3 BMI2 AVX2\n",
      "[libx264 @ 0x7fc830706040] profile High, level 6.2, 4:2:0, 8-bit\n",
      "[libx264 @ 0x7fc830706040] 264 - core 164 r3108 31e19f9 - H.264/MPEG-4 AVC codec - Copyleft 2003-2023 - http://www.videolan.org/x264.html - options: cabac=1 ref=3 deblock=1:0:0 analyse=0x3:0x113 me=hex subme=7 psy=1 psy_rd=1.00:0.00 mixed_ref=1 me_range=16 chroma_me=1 trellis=1 8x8dct=1 cqm=0 deadzone=21,11 fast_pskip=1 chroma_qp_offset=-2 threads=24 lookahead_threads=4 sliced_threads=0 nr=0 decimate=1 interlaced=0 bluray_compat=0 constrained_intra=0 bframes=3 b_pyramid=2 b_adapt=1 b_bias=0 direct=1 weightb=1 open_gop=0 weightp=2 keyint=250 keyint_min=25 scenecut=40 intra_refresh=0 rc_lookahead=40 rc=crf mbtree=1 crf=23.0 qcomp=0.60 qpmin=0 qpmax=69 qpstep=4 ip_ratio=1.40 aq=1:1.00\n",
      "Output #0, mp4, to 'resources/videos/output_0.mp4':\n",
      "  Metadata:\n",
      "    major_brand     : isom\n",
      "    minor_version   : 512\n",
      "    compatible_brands: isomiso2avc1mp41\n",
      "    encoder         : Lavf61.7.100\n",
      "  Stream #0:0: Audio: aac (LC) (mp4a / 0x6134706D), 48000 Hz, stereo, fltp, 128 kb/s\n",
      "      Metadata:\n",
      "        encoder         : Lavc61.19.100 aac\n",
      "  Stream #0:1: Video: h264 (avc1 / 0x31637661), yuv420p(tv, progressive), 1920x1080 [SAR 1:1 DAR 16:9], q=2-31, 1000k tbn\n",
      "      Metadata:\n",
      "        encoder         : Lavc61.19.100 libx264\n",
      "      Side data:\n",
      "        cpb: bitrate max/min/avg: 0/0/0 buffer size: 0 vbv_delay: N/A\n",
      "[out#0/mp4 @ 0x7fc830704080] video:1335KiB audio:120KiB subtitle:0KiB other streams:0KiB global headers:0KiB muxing overhead: 0.492601%\n",
      "frame=  193 fps= 28 q=-1.0 Lsize=    1462KiB time=00:00:07.60 bitrate=1575.8kbits/s speed= 1.1x    \n",
      "[aac @ 0x7fc830705000] Qavg: 564.259\n",
      "[libx264 @ 0x7fc830706040] frame I:1     Avg QP:15.68  size: 27136\n",
      "[libx264 @ 0x7fc830706040] frame P:49    Avg QP:16.92  size: 14540\n",
      "[libx264 @ 0x7fc830706040] frame B:143   Avg QP:20.65  size:  4380\n",
      "[libx264 @ 0x7fc830706040] consecutive B-frames:  1.0%  0.0%  1.6% 97.4%\n",
      "[libx264 @ 0x7fc830706040] mb I  I16..4: 35.5% 61.0%  3.5%\n",
      "[libx264 @ 0x7fc830706040] mb P  I16..4:  4.9% 14.5%  0.4%  P16..4: 21.5%  5.1%  1.5%  0.0%  0.0%    skip:52.2%\n",
      "[libx264 @ 0x7fc830706040] mb B  I16..4:  0.4%  0.6%  0.0%  B16..8: 20.1%  1.3%  0.1%  direct: 3.3%  skip:74.2%  L0:48.1% L1:48.7% BI: 3.3%\n",
      "[libx264 @ 0x7fc830706040] 8x8 transform intra:70.8% inter:81.8%\n",
      "[libx264 @ 0x7fc830706040] coded y,uvDC,uvAC intra: 13.5% 15.6% 2.8% inter: 3.1% 5.6% 0.0%\n",
      "[libx264 @ 0x7fc830706040] i16 v,h,dc,p: 38% 44%  5% 14%\n",
      "[libx264 @ 0x7fc830706040] i8 v,h,dc,ddl,ddr,vr,hd,vl,hu: 24% 15% 52%  1%  1%  2%  1%  1%  1%\n",
      "[libx264 @ 0x7fc830706040] i4 v,h,dc,ddl,ddr,vr,hd,vl,hu: 27% 20% 19%  5%  8%  7%  6%  4%  3%\n",
      "[libx264 @ 0x7fc830706040] i8c dc,h,v,p: 66% 18% 15%  1%\n",
      "[libx264 @ 0x7fc830706040] Weighted P-Frames: Y:0.0% UV:0.0%\n",
      "[libx264 @ 0x7fc830706040] ref P L0: 60.6%  9.1% 22.1%  8.2%\n",
      "[libx264 @ 0x7fc830706040] ref B L0: 84.6% 12.6%  2.8%\n",
      "[libx264 @ 0x7fc830706040] ref B L1: 96.2%  3.8%\n",
      "[libx264 @ 0x7fc830706040] kb/s:1415.41\n"
     ]
    },
    {
     "name": "stdout",
     "output_type": "stream",
     "text": [
      "5089.49975 5298.375\n"
     ]
    },
    {
     "name": "stderr",
     "output_type": "stream",
     "text": [
      "huggingface/tokenizers: The current process just got forked, after parallelism has already been used. Disabling parallelism to avoid deadlocks...\n",
      "To disable this warning, you can either:\n",
      "\t- Avoid using `tokenizers` before the fork if possible\n",
      "\t- Explicitly set the environment variable TOKENIZERS_PARALLELISM=(true | false)\n",
      "ffmpeg version 7.1 Copyright (c) 2000-2024 the FFmpeg developers\n",
      "  built with Apple clang version 16.0.0 (clang-1600.0.26.4)\n",
      "  configuration: --prefix=/usr/local/Cellar/ffmpeg/7.1_3 --enable-shared --enable-pthreads --enable-version3 --cc=clang --host-cflags= --host-ldflags='-Wl,-ld_classic' --enable-ffplay --enable-gnutls --enable-gpl --enable-libaom --enable-libaribb24 --enable-libbluray --enable-libdav1d --enable-libharfbuzz --enable-libjxl --enable-libmp3lame --enable-libopus --enable-librav1e --enable-librist --enable-librubberband --enable-libsnappy --enable-libsrt --enable-libssh --enable-libsvtav1 --enable-libtesseract --enable-libtheora --enable-libvidstab --enable-libvmaf --enable-libvorbis --enable-libvpx --enable-libwebp --enable-libx264 --enable-libx265 --enable-libxml2 --enable-libxvid --enable-lzma --enable-libfontconfig --enable-libfreetype --enable-frei0r --enable-libass --enable-libopencore-amrnb --enable-libopencore-amrwb --enable-libopenjpeg --enable-libspeex --enable-libsoxr --enable-libzmq --enable-libzimg --disable-libjack --disable-indev=jack --enable-videotoolbox --enable-audiotoolbox\n",
      "  libavutil      59. 39.100 / 59. 39.100\n",
      "  libavcodec     61. 19.100 / 61. 19.100\n",
      "  libavformat    61.  7.100 / 61.  7.100\n",
      "  libavdevice    61.  3.100 / 61.  3.100\n",
      "  libavfilter    10.  4.100 / 10.  4.100\n",
      "  libswscale      8.  3.100 /  8.  3.100\n",
      "  libswresample   5.  3.100 /  5.  3.100\n",
      "  libpostproc    58.  3.100 / 58.  3.100\n",
      "Input #0, mov,mp4,m4a,3gp,3g2,mj2, from 'resources/videos/NUS FutureWork.mp4':\n",
      "  Metadata:\n",
      "    major_brand     : isom\n",
      "    minor_version   : 512\n",
      "    compatible_brands: isomiso2avc1mp41\n",
      "    encoder         : Lavf58.45.100\n",
      "  Duration: 00:15:42.30, start: 0.000000, bitrate: 1787 kb/s\n",
      "  Stream #0:0[0x1](eng): Video: h264 (High) (avc1 / 0x31637661), yuv420p(progressive), 1920x1080 [SAR 1:1 DAR 16:9], 1650 kb/s, 25 fps, 25 tbr, 12800 tbn (default)\n",
      "      Metadata:\n",
      "        handler_name    : VideoHandler\n",
      "        vendor_id       : [0][0][0][0]\n",
      "  Stream #0:1[0x2](eng): Audio: aac (LC) (mp4a / 0x6134706D), 48000 Hz, stereo, fltp, 130 kb/s (default)\n",
      "      Metadata:\n",
      "        handler_name    : SoundHandler\n",
      "        vendor_id       : [0][0][0][0]\n",
      "Stream mapping:\n",
      "  Stream #0:0 (h264) -> trim:default\n",
      "  Stream #0:1 (aac) -> atrim:default\n",
      "  concat -> Stream #0:0 (aac)\n",
      "  concat -> Stream #0:1 (libx264)\n",
      "Press [q] to stop, [?] for help\n",
      "[libx264 @ 0x7fd78d807a40] using SAR=1/1\n",
      "[libx264 @ 0x7fd78d807a40] MB rate (8160000000) > level limit (16711680)\n",
      "[libx264 @ 0x7fd78d807a40] using cpu capabilities: MMX2 SSE2Fast SSSE3 SSE4.2 AVX FMA3 BMI2 AVX2\n",
      "[libx264 @ 0x7fd78d807a40] profile High, level 6.2, 4:2:0, 8-bit\n",
      "[libx264 @ 0x7fd78d807a40] 264 - core 164 r3108 31e19f9 - H.264/MPEG-4 AVC codec - Copyleft 2003-2023 - http://www.videolan.org/x264.html - options: cabac=1 ref=3 deblock=1:0:0 analyse=0x3:0x113 me=hex subme=7 psy=1 psy_rd=1.00:0.00 mixed_ref=1 me_range=16 chroma_me=1 trellis=1 8x8dct=1 cqm=0 deadzone=21,11 fast_pskip=1 chroma_qp_offset=-2 threads=24 lookahead_threads=4 sliced_threads=0 nr=0 decimate=1 interlaced=0 bluray_compat=0 constrained_intra=0 bframes=3 b_pyramid=2 b_adapt=1 b_bias=0 direct=1 weightb=1 open_gop=0 weightp=2 keyint=250 keyint_min=25 scenecut=40 intra_refresh=0 rc_lookahead=40 rc=crf mbtree=1 crf=23.0 qcomp=0.60 qpmin=0 qpmax=69 qpstep=4 ip_ratio=1.40 aq=1:1.00\n",
      "Output #0, mp4, to 'resources/videos/output_1.mp4':\n",
      "  Metadata:\n",
      "    major_brand     : isom\n",
      "    minor_version   : 512\n",
      "    compatible_brands: isomiso2avc1mp41\n",
      "    encoder         : Lavf61.7.100\n",
      "  Stream #0:0: Audio: aac (LC) (mp4a / 0x6134706D), 48000 Hz, stereo, fltp, 128 kb/s\n",
      "      Metadata:\n",
      "        encoder         : Lavc61.19.100 aac\n",
      "  Stream #0:1: Video: h264 (avc1 / 0x31637661), yuv420p(tv, progressive), 1920x1080 [SAR 1:1 DAR 16:9], q=2-31, 1000k tbn\n",
      "      Metadata:\n",
      "        encoder         : Lavc61.19.100 libx264\n",
      "      Side data:\n",
      "        cpb: bitrate max/min/avg: 0/0/0 buffer size: 0 vbv_delay: N/A\n",
      "[out#0/mp4 @ 0x7fd78d804c40] video:1330KiB audio:130KiB subtitle:0KiB other streams:0KiB global headers:0KiB muxing overhead: 0.523572%\n",
      "frame=  209 fps= 30 q=-1.0 Lsize=    1468KiB time=00:00:08.24 bitrate=1459.5kbits/s speed=1.18x    \n",
      "[aac @ 0x7fd78d8068c0] Qavg: 562.279\n",
      "[libx264 @ 0x7fd78d807a40] frame I:1     Avg QP:14.39  size: 30430\n",
      "[libx264 @ 0x7fd78d807a40] frame P:53    Avg QP:17.01  size: 13645\n",
      "[libx264 @ 0x7fd78d807a40] frame B:155   Avg QP:21.10  size:  3922\n",
      "[libx264 @ 0x7fd78d807a40] consecutive B-frames:  1.0%  0.0%  1.4% 97.6%\n",
      "[libx264 @ 0x7fd78d807a40] mb I  I16..4: 56.0% 39.4%  4.6%\n",
      "[libx264 @ 0x7fd78d807a40] mb P  I16..4:  4.9% 12.7%  0.3%  P16..4: 21.4%  5.1%  1.7%  0.0%  0.0%    skip:53.9%\n",
      "[libx264 @ 0x7fd78d807a40] mb B  I16..4:  0.3%  0.5%  0.0%  B16..8: 20.2%  1.1%  0.1%  direct: 3.0%  skip:74.7%  L0:48.3% L1:49.1% BI: 2.6%\n",
      "[libx264 @ 0x7fd78d807a40] 8x8 transform intra:67.0% inter:81.1%\n",
      "[libx264 @ 0x7fd78d807a40] coded y,uvDC,uvAC intra: 11.1% 15.4% 3.2% inter: 3.0% 5.6% 0.0%\n",
      "[libx264 @ 0x7fd78d807a40] i16 v,h,dc,p: 38% 45%  3% 13%\n",
      "[libx264 @ 0x7fd78d807a40] i8 v,h,dc,ddl,ddr,vr,hd,vl,hu: 21% 16% 58%  1%  1%  1%  1%  1%  1%\n",
      "[libx264 @ 0x7fd78d807a40] i4 v,h,dc,ddl,ddr,vr,hd,vl,hu: 25% 25% 20%  4%  7%  6%  6%  4%  3%\n",
      "[libx264 @ 0x7fd78d807a40] i8c dc,h,v,p: 64% 20% 15%  1%\n",
      "[libx264 @ 0x7fd78d807a40] Weighted P-Frames: Y:0.0% UV:0.0%\n",
      "[libx264 @ 0x7fd78d807a40] ref P L0: 60.0%  9.0% 22.7%  8.4%\n",
      "[libx264 @ 0x7fd78d807a40] ref B L0: 85.0% 12.5%  2.5%\n",
      "[libx264 @ 0x7fd78d807a40] ref B L1: 95.3%  4.7%\n",
      "[libx264 @ 0x7fd78d807a40] kb/s:1302.84\n"
     ]
    },
    {
     "name": "stdout",
     "output_type": "stream",
     "text": [
      "22805.625 23024.12425\n"
     ]
    },
    {
     "name": "stderr",
     "output_type": "stream",
     "text": [
      "huggingface/tokenizers: The current process just got forked, after parallelism has already been used. Disabling parallelism to avoid deadlocks...\n",
      "To disable this warning, you can either:\n",
      "\t- Avoid using `tokenizers` before the fork if possible\n",
      "\t- Explicitly set the environment variable TOKENIZERS_PARALLELISM=(true | false)\n",
      "ffmpeg version 7.1 Copyright (c) 2000-2024 the FFmpeg developers\n",
      "  built with Apple clang version 16.0.0 (clang-1600.0.26.4)\n",
      "  configuration: --prefix=/usr/local/Cellar/ffmpeg/7.1_3 --enable-shared --enable-pthreads --enable-version3 --cc=clang --host-cflags= --host-ldflags='-Wl,-ld_classic' --enable-ffplay --enable-gnutls --enable-gpl --enable-libaom --enable-libaribb24 --enable-libbluray --enable-libdav1d --enable-libharfbuzz --enable-libjxl --enable-libmp3lame --enable-libopus --enable-librav1e --enable-librist --enable-librubberband --enable-libsnappy --enable-libsrt --enable-libssh --enable-libsvtav1 --enable-libtesseract --enable-libtheora --enable-libvidstab --enable-libvmaf --enable-libvorbis --enable-libvpx --enable-libwebp --enable-libx264 --enable-libx265 --enable-libxml2 --enable-libxvid --enable-lzma --enable-libfontconfig --enable-libfreetype --enable-frei0r --enable-libass --enable-libopencore-amrnb --enable-libopencore-amrwb --enable-libopenjpeg --enable-libspeex --enable-libsoxr --enable-libzmq --enable-libzimg --disable-libjack --disable-indev=jack --enable-videotoolbox --enable-audiotoolbox\n",
      "  libavutil      59. 39.100 / 59. 39.100\n",
      "  libavcodec     61. 19.100 / 61. 19.100\n",
      "  libavformat    61.  7.100 / 61.  7.100\n",
      "  libavdevice    61.  3.100 / 61.  3.100\n",
      "  libavfilter    10.  4.100 / 10.  4.100\n",
      "  libswscale      8.  3.100 /  8.  3.100\n",
      "  libswresample   5.  3.100 /  5.  3.100\n",
      "  libpostproc    58.  3.100 / 58.  3.100\n",
      "Input #0, mov,mp4,m4a,3gp,3g2,mj2, from 'resources/videos/NUS FutureWork.mp4':\n",
      "  Metadata:\n",
      "    major_brand     : isom\n",
      "    minor_version   : 512\n",
      "    compatible_brands: isomiso2avc1mp41\n",
      "    encoder         : Lavf58.45.100\n",
      "  Duration: 00:15:42.30, start: 0.000000, bitrate: 1787 kb/s\n",
      "  Stream #0:0[0x1](eng): Video: h264 (High) (avc1 / 0x31637661), yuv420p(progressive), 1920x1080 [SAR 1:1 DAR 16:9], 1650 kb/s, 25 fps, 25 tbr, 12800 tbn (default)\n",
      "      Metadata:\n",
      "        handler_name    : VideoHandler\n",
      "        vendor_id       : [0][0][0][0]\n",
      "  Stream #0:1[0x2](eng): Audio: aac (LC) (mp4a / 0x6134706D), 48000 Hz, stereo, fltp, 130 kb/s (default)\n",
      "      Metadata:\n",
      "        handler_name    : SoundHandler\n",
      "        vendor_id       : [0][0][0][0]\n",
      "Stream mapping:\n",
      "  Stream #0:0 (h264) -> trim:default\n",
      "  Stream #0:1 (aac) -> atrim:default\n",
      "  concat -> Stream #0:0 (aac)\n",
      "  concat -> Stream #0:1 (libx264)\n",
      "Press [q] to stop, [?] for help\n",
      "[libx264 @ 0x7f7873007600] using SAR=1/1\n",
      "[libx264 @ 0x7f7873007600] MB rate (8160000000) > level limit (16711680)\n",
      "[libx264 @ 0x7f7873007600] using cpu capabilities: MMX2 SSE2Fast SSSE3 SSE4.2 AVX FMA3 BMI2 AVX2\n",
      "[libx264 @ 0x7f7873007600] profile High, level 6.2, 4:2:0, 8-bit\n",
      "[libx264 @ 0x7f7873007600] 264 - core 164 r3108 31e19f9 - H.264/MPEG-4 AVC codec - Copyleft 2003-2023 - http://www.videolan.org/x264.html - options: cabac=1 ref=3 deblock=1:0:0 analyse=0x3:0x113 me=hex subme=7 psy=1 psy_rd=1.00:0.00 mixed_ref=1 me_range=16 chroma_me=1 trellis=1 8x8dct=1 cqm=0 deadzone=21,11 fast_pskip=1 chroma_qp_offset=-2 threads=24 lookahead_threads=4 sliced_threads=0 nr=0 decimate=1 interlaced=0 bluray_compat=0 constrained_intra=0 bframes=3 b_pyramid=2 b_adapt=1 b_bias=0 direct=1 weightb=1 open_gop=0 weightp=2 keyint=250 keyint_min=25 scenecut=40 intra_refresh=0 rc_lookahead=40 rc=crf mbtree=1 crf=23.0 qcomp=0.60 qpmin=0 qpmax=69 qpstep=4 ip_ratio=1.40 aq=1:1.00\n",
      "Output #0, mp4, to 'resources/videos/output_2.mp4':\n",
      "  Metadata:\n",
      "    major_brand     : isom\n",
      "    minor_version   : 512\n",
      "    compatible_brands: isomiso2avc1mp41\n",
      "    encoder         : Lavf61.7.100\n",
      "  Stream #0:0: Audio: aac (LC) (mp4a / 0x6134706D), 48000 Hz, stereo, fltp, 128 kb/s\n",
      "      Metadata:\n",
      "        encoder         : Lavc61.19.100 aac\n",
      "  Stream #0:1: Video: h264 (avc1 / 0x31637661), yuv420p(tv, progressive), 1920x1080 [SAR 1:1 DAR 16:9], q=2-31, 1000k tbn\n",
      "      Metadata:\n",
      "        encoder         : Lavc61.19.100 libx264\n",
      "      Side data:\n",
      "        cpb: bitrate max/min/avg: 0/0/0 buffer size: 0 vbv_delay: N/A\n",
      "[out#0/mp4 @ 0x7f78730056c0] video:1400KiB audio:136KiB subtitle:0KiB other streams:0KiB global headers:0KiB muxing overhead: 0.516000%\n",
      "frame=  219 fps= 11 q=-1.0 Lsize=    1544KiB time=00:00:08.64 bitrate=1464.2kbits/s speed=0.426x    \n",
      "[aac @ 0x7f7873006480] Qavg: 688.045\n",
      "[libx264 @ 0x7f7873007600] frame I:1     Avg QP:16.11  size: 29491\n",
      "[libx264 @ 0x7f7873007600] frame P:55    Avg QP:17.41  size: 13631\n",
      "[libx264 @ 0x7f7873007600] frame B:163   Avg QP:21.87  size:  4013\n",
      "[libx264 @ 0x7f7873007600] consecutive B-frames:  0.5%  0.0%  2.7% 96.8%\n",
      "[libx264 @ 0x7f7873007600] mb I  I16..4: 25.4% 70.4%  4.2%\n",
      "[libx264 @ 0x7f7873007600] mb P  I16..4:  4.6% 11.7%  0.3%  P16..4: 23.4%  5.3%  1.5%  0.0%  0.0%    skip:53.2%\n",
      "[libx264 @ 0x7f7873007600] mb B  I16..4:  0.3%  0.6%  0.0%  B16..8: 22.1%  1.2%  0.1%  direct: 1.8%  skip:73.9%  L0:49.1% L1:48.5% BI: 2.4%\n",
      "[libx264 @ 0x7f7873007600] 8x8 transform intra:70.0% inter:84.3%\n",
      "[libx264 @ 0x7f7873007600] coded y,uvDC,uvAC intra: 13.9% 13.5% 2.2% inter: 3.2% 4.4% 0.0%\n",
      "[libx264 @ 0x7f7873007600] i16 v,h,dc,p: 29% 49%  5% 17%\n",
      "[libx264 @ 0x7f7873007600] i8 v,h,dc,ddl,ddr,vr,hd,vl,hu: 22% 16% 54%  1%  1%  1%  2%  1%  1%\n",
      "[libx264 @ 0x7f7873007600] i4 v,h,dc,ddl,ddr,vr,hd,vl,hu: 28% 20% 19%  3%  9%  6%  7%  4%  3%\n",
      "[libx264 @ 0x7f7873007600] i8c dc,h,v,p: 73% 14% 12%  1%\n",
      "[libx264 @ 0x7f7873007600] Weighted P-Frames: Y:0.0% UV:0.0%\n",
      "[libx264 @ 0x7f7873007600] ref P L0: 58.3%  8.9% 23.6%  9.2%\n",
      "[libx264 @ 0x7f7873007600] ref B L0: 83.2% 13.6%  3.2%\n",
      "[libx264 @ 0x7f7873007600] ref B L1: 94.9%  5.1%\n",
      "[libx264 @ 0x7f7873007600] kb/s:1308.94\n"
     ]
    },
    {
     "name": "stdout",
     "output_type": "stream",
     "text": [
      "24.794979999999953\n"
     ]
    }
   ],
   "source": [
    "input_file = ffmpeg.input('resources/videos/NUS FutureWork.mp4')\n",
    "\n",
    "\n",
    "tot = 0\n",
    "for i in range(len(chosen_items)):\n",
    "    snip = sentences_obj[sentences.index(chosen_items[::-1][i])]\n",
    "    tot += (snip['end']-snip['start'])\n",
    "    print(snip['start']*fps, snip['end']*fps)\n",
    "\n",
    "    out_temp = 'resources/videos/output_'+str(i)+'.mp4'\n",
    "    if os.path.exists(out_temp):\n",
    "        os.remove(out_temp)\n",
    "        \n",
    "    pts='PTS-STARTPTS'\n",
    "    vid = input_file.trim(start=snip['start'], end=snip['end']).setpts(pts)\n",
    "    aud = (input_file\n",
    "          .filter_('atrim', start=snip['start'], end=snip['end'])\n",
    "          .filter_('asetpts', pts))\n",
    "    \n",
    "    vid_aud = ffmpeg.concat(vid, aud, v=1, a=1)\n",
    "    output_file = ffmpeg.output(vid_aud, out_temp, format='mp4')\n",
    "    ffmpeg.run(output_file)\n",
    "print(tot)"
   ]
  },
  {
   "cell_type": "code",
   "execution_count": null,
   "id": "f823b36c-2b3c-4905-ae89-831ce2bc42a9",
   "metadata": {},
   "outputs": [],
   "source": []
  },
  {
   "cell_type": "markdown",
   "id": "3127995f-7ac7-4a5f-a518-2bff076651ae",
   "metadata": {},
   "source": [
    "# 6. Create ffmpeg commands (to run on command line) to concat chosen clips"
   ]
  },
  {
   "cell_type": "code",
   "execution_count": 29,
   "id": "6bcb92c0-91d2-42d3-b083-87cd364e68a7",
   "metadata": {},
   "outputs": [
    {
     "name": "stdout",
     "output_type": "stream",
     "text": [
      "Run this on command line. Ensure you have ffmpeg installed => \n",
      "ffmpeg  -i resources/videos/output_0.mp4 -i resources/videos/output_1.mp4 -i resources/videos/output_2.mp4 -filter_complex \"[0:v][0:a][1:v][1:a][2:v][2:a]concat=n=3:v=1:a=1\" -vsync vfr resources/videos/output_final.mp4\n"
     ]
    }
   ],
   "source": [
    "final_out = 'resources/videos/output_final.mp4'\n",
    "if os.path.exists(final_out):\n",
    "    os.remove(final_out)\n",
    "\n",
    "str_command = 'ffmpeg '\n",
    "str_command_args = ' -filter_complex \"'\n",
    "for i in range(len(chosen_items)):\n",
    "    str_command += ' -i resources/videos/output_'+str(i)+'.mp4'\n",
    "    str_command_args += '['+str(i)+':v]['+str(i)+':a]'\n",
    "\n",
    "str_command_args += 'concat=n='+str(len(chosen_items))+':v=1:a=1\" -vsync vfr '+final_out\n",
    "str_command += str_command_args\n",
    "\n",
    "print(\"Run this on command line. Ensure you have ffmpeg installed => \\n\" + str_command)"
   ]
  },
  {
   "cell_type": "code",
   "execution_count": null,
   "id": "951db2ec-82b9-4f32-b8b3-4f56a1c22b8b",
   "metadata": {},
   "outputs": [],
   "source": []
  },
  {
   "cell_type": "code",
   "execution_count": null,
   "id": "5781a71a-e8e8-47a8-b89f-e38bcbf3748e",
   "metadata": {},
   "outputs": [],
   "source": []
  },
  {
   "cell_type": "code",
   "execution_count": null,
   "id": "a5142932-5b5f-4a58-960d-0933dda5e660",
   "metadata": {},
   "outputs": [],
   "source": []
  },
  {
   "cell_type": "code",
   "execution_count": null,
   "id": "1371d8a0-d7fa-4287-9d37-6c52650564b3",
   "metadata": {},
   "outputs": [],
   "source": []
  }
 ],
 "metadata": {
  "kernelspec": {
   "display_name": "video-summaries-2",
   "language": "python",
   "name": "video-summaries-2"
  },
  "language_info": {
   "codemirror_mode": {
    "name": "ipython",
    "version": 3
   },
   "file_extension": ".py",
   "mimetype": "text/x-python",
   "name": "python",
   "nbconvert_exporter": "python",
   "pygments_lexer": "ipython3",
   "version": "3.10.16"
  }
 },
 "nbformat": 4,
 "nbformat_minor": 5
}
