{
 "cells": [
  {
   "cell_type": "code",
   "execution_count": 75,
   "id": "c72258b1-4ca6-4d4f-b6e8-d7eaced53d7a",
   "metadata": {},
   "outputs": [],
   "source": [
    "import numpy as np\n",
    "import pandas as pd\n",
    "import matplotlib.pyplot as plt\n",
    "import math, json\n",
    "import torch\n",
    "from sentence_transformers import SentenceTransformer"
   ]
  },
  {
   "cell_type": "code",
   "execution_count": 115,
   "id": "5d9d0f1c",
   "metadata": {},
   "outputs": [
    {
     "data": {
      "text/plain": [
       "'2.2.2'"
      ]
     },
     "execution_count": 115,
     "metadata": {},
     "output_type": "execute_result"
    }
   ],
   "source": [
    "torch.__version__"
   ]
  },
  {
   "cell_type": "code",
   "execution_count": 187,
   "id": "48c344a9-8ba4-4067-8a9b-40880268099b",
   "metadata": {},
   "outputs": [],
   "source": [
    "srt_sentences = []\n",
    "with open(\"NUS-FutureWork-first10-modified-copy.srt\") as f:\n",
    "    srt_sentences = f.readlines()"
   ]
  },
  {
   "cell_type": "code",
   "execution_count": 117,
   "id": "47560adb-7204-4824-8631-2d1441b59deb",
   "metadata": {},
   "outputs": [],
   "source": [
    "def checknum(a):\n",
    "    try:\n",
    "        int(a)\n",
    "    except:\n",
    "        return False\n",
    "    return True"
   ]
  },
  {
   "cell_type": "code",
   "execution_count": 188,
   "id": "f74dea5b-9fd5-463a-9588-a0b676ab0782",
   "metadata": {},
   "outputs": [],
   "source": [
    "filtered_srt_sentences = []\n",
    "for l in srt_sentences:\n",
    "    l_ = l.replace('\\n','')\n",
    "    if l_ == '':\n",
    "        continue \n",
    "    \n",
    "    if '-->' not in l_:\n",
    "        if checknum(l_):\n",
    "            continue\n",
    "        filtered_srt_sentences.append(l_)\n",
    "        \n",
    "final_script = ' '.join(filtered_srt_sentences)"
   ]
  },
  {
   "cell_type": "code",
   "execution_count": 189,
   "id": "fcf3be20-75e9-42ab-8f62-92abfd7ccebb",
   "metadata": {},
   "outputs": [
    {
     "data": {
      "text/plain": [
       "\"Ladies and gentlemen. Please put your hand to gather to welcome all guest of owner Minister for education Mr. Chan Chun Seang A very good morning to gasthof owner Minister for education, Mr. Chan Chee Seng, Keynote Speaker Prof James Lander and Yours President Prof Tan Eng Chai, Deputy President of Academic Affairs and Provost, Prof Aren't and Distinguished Guest, Alumni and Partners Here are Nurses and tuning in online Welcome to future works to point to the second edition of the nus lifelong learning festival. My name is jawi and a proud ulama staff member of nus and ummc for this morning. The theme for this years conference is a infection and we are grateful that so many industry leaders and experts have the general sale of their time today to share their invaluable experiences in this area. We are so grateful that you have taken the time to attend the conference and we hope that you will live with the insights connections and inspiration for our future wife. I. Before we begin a quick safety and evacuation briefing. In case of emergency Please evacuate to dxd behind the state. Or at the back of the hall to the assembly earlier outside and do not enter the building and further instructions. Now let's get started. We would like to invite NS President Prof Tan Eng Chai to give the Welcome Actress Thanks. Detective for Education, Mr. Chan Chuncheon, the Guest, Colleges Alumni and Friends. Good morning and I bet you a warm welcome to the second edition of the nus lifelong learning table. The theme for this year's learning Festival is future work to point zero i in action. The emphasis is on action. Many of us have already heard much about what I can do as promise and as parrots may sound like a paradox but i is for real and in action. Transforming Works and Industries today. We will have the privilege of hearing from industry leaders on how they are using ai in their organizations with complex them to deploy. The changes are as broad about and how They are bringing the workforce on this new ai journey. We are in the watershed moment at the cap of ai revolution. Some of US here to wave Grand Heroes will require similar period. Nearly forty years ago where personal computers came to the workplace Putting the power of computing into individual hands replacing Panama, Paper Records and type writer's jacket or show later. The transformative power of the PC Worlds attached to a whole new level by the emergence of the internet. Prank could granted with the advantage of New Technologies. We must be open excited and innovative about the opportunities that new technologies can bring and us recognizes that eye is a game changer. We are actively positioning ourselves to right the potential of ai On the Research Front. We established the US a Institute in March. This year and this brings together I Researchers from across the university to accelerate Frontier I research as well as to boost real World Impact. They say Institut of Forster a vibrant ecosystem that promotes synergistic A research and applications as well as to grow the talent pool And to engage the Goverment excellence industry in Partnerships. And this also in the areas of education Healthcare finance, Sustainability logistics magnet factoring and so on and so forth. This institute will also conduct research on how to regulate And to safeguard Transparency and Accountability. To address etika concerns and risk associated with I And us has also been proactive like guiding and encouraging The integration of aI In our teaching and Learning. So in February twenty twenty last year end up and guess crafted end interim policy and this is a first of its scene Singapore institutions to provide guidance on staff uses of a while and also how to manage students use of a high end. since the beginning of this year The center for training learning and technology has been offering a range of a workshops on topics such as using generative a for cost design question generation and assessments and use it as to form a community of practice and this is to exchange ideas Share resources promote best practices and also set community standards for the use of ai in teaching and learning. So i choose also being rode out across various aspects of our penetration and operational work and use it as both generative ai of a platform for our us community using retrieval, augmented generation process and all model such as open ai ppt and Google jamani This platform helps our staff to get answers for and use specific questions such as quarry his own and us policies and and use it as also works department's to use a life to improve productivity across a wide range of use cases. For example, using ai to access pupils and as part of learning and development. The office of human resources has work with faculty members to develop blended on the job training for US administrative staff in data literacy and I some pleased to share that close to five thousand admins staff have completed the first level of data literacy course as well as the first level of ai competency course\""
      ]
     },
     "execution_count": 189,
     "metadata": {},
     "output_type": "execute_result"
    }
   ],
   "source": [
    "final_script"
   ]
  },
  {
   "cell_type": "code",
   "execution_count": null,
   "id": "860ae6c7-2195-457a-ae6a-62ec69ad9cf5",
   "metadata": {},
   "outputs": [],
   "source": []
  },
  {
   "cell_type": "code",
   "execution_count": 190,
   "id": "67f0a465-bf8b-4737-b026-53951e82e56f",
   "metadata": {},
   "outputs": [],
   "source": [
    "final_sentences = []\n",
    "\n",
    "for sentence in final_script.split(\".\"):\n",
    "    final_sentences.append(sentence.strip()+\".\")"
   ]
  },
  {
   "cell_type": "code",
   "execution_count": 191,
   "id": "ef6a39aa-1791-479e-8e7f-25d05bfc60d0",
   "metadata": {},
   "outputs": [
    {
     "data": {
      "text/plain": [
       "['Ladies and gentlemen.',\n",
       " 'Please put your hand to gather to welcome all guest of owner Minister for education Mr.',\n",
       " 'Chan Chun Seang A very good morning to gasthof owner Minister for education, Mr.',\n",
       " \"Chan Chee Seng, Keynote Speaker Prof James Lander and Yours President Prof Tan Eng Chai, Deputy President of Academic Affairs and Provost, Prof Aren't and Distinguished Guest, Alumni and Partners Here are Nurses and tuning in online Welcome to future works to point to the second edition of the nus lifelong learning festival.\",\n",
       " 'My name is jawi and a proud ulama staff member of nus and ummc for this morning.',\n",
       " 'The theme for this years conference is a infection and we are grateful that so many industry leaders and experts have the general sale of their time today to share their invaluable experiences in this area.',\n",
       " 'We are so grateful that you have taken the time to attend the conference and we hope that you will live with the insights connections and inspiration for our future wife.',\n",
       " 'I.',\n",
       " 'Before we begin a quick safety and evacuation briefing.',\n",
       " 'In case of emergency Please evacuate to dxd behind the state.',\n",
       " 'Or at the back of the hall to the assembly earlier outside and do not enter the building and further instructions.',\n",
       " \"Now let's get started.\",\n",
       " 'We would like to invite NS President Prof Tan Eng Chai to give the Welcome Actress Thanks.',\n",
       " 'Detective for Education, Mr.',\n",
       " 'Chan Chuncheon, the Guest, Colleges Alumni and Friends.',\n",
       " 'Good morning and I bet you a warm welcome to the second edition of the nus lifelong learning table.',\n",
       " \"The theme for this year's learning Festival is future work to point zero i in action.\",\n",
       " 'The emphasis is on action.',\n",
       " 'Many of us have already heard much about what I can do as promise and as parrots may sound like a paradox but i is for real and in action.',\n",
       " 'Transforming Works and Industries today.',\n",
       " 'We will have the privilege of hearing from industry leaders on how they are using ai in their organizations with complex them to deploy.',\n",
       " 'The changes are as broad about and how They are bringing the workforce on this new ai journey.',\n",
       " 'We are in the watershed moment at the cap of ai revolution.',\n",
       " 'Some of US here to wave Grand Heroes will require similar period.',\n",
       " \"Nearly forty years ago where personal computers came to the workplace Putting the power of computing into individual hands replacing Panama, Paper Records and type writer's jacket or show later.\",\n",
       " 'The transformative power of the PC Worlds attached to a whole new level by the emergence of the internet.',\n",
       " 'Prank could granted with the advantage of New Technologies.',\n",
       " 'We must be open excited and innovative about the opportunities that new technologies can bring and us recognizes that eye is a game changer.',\n",
       " 'We are actively positioning ourselves to right the potential of ai On the Research Front.',\n",
       " 'We established the US a Institute in March.',\n",
       " 'This year and this brings together I Researchers from across the university to accelerate Frontier I research as well as to boost real World Impact.',\n",
       " 'They say Institut of Forster a vibrant ecosystem that promotes synergistic A research and applications as well as to grow the talent pool And to engage the Goverment excellence industry in Partnerships.',\n",
       " 'And this also in the areas of education Healthcare finance, Sustainability logistics magnet factoring and so on and so forth.',\n",
       " 'This institute will also conduct research on how to regulate And to safeguard Transparency and Accountability.',\n",
       " 'To address etika concerns and risk associated with I And us has also been proactive like guiding and encouraging The integration of aI In our teaching and Learning.',\n",
       " 'So in February twenty twenty last year end up and guess crafted end interim policy and this is a first of its scene Singapore institutions to provide guidance on staff uses of a while and also how to manage students use of a high end.',\n",
       " 'since the beginning of this year The center for training learning and technology has been offering a range of a workshops on topics such as using generative a for cost design question generation and assessments and use it as to form a community of practice and this is to exchange ideas Share resources promote best practices and also set community standards for the use of ai in teaching and learning.',\n",
       " \"So i choose also being rode out across various aspects of our penetration and operational work and use it as both generative ai of a platform for our us community using retrieval, augmented generation process and all model such as open ai ppt and Google jamani This platform helps our staff to get answers for and use specific questions such as quarry his own and us policies and and use it as also works department's to use a life to improve productivity across a wide range of use cases.\",\n",
       " 'For example, using ai to access pupils and as part of learning and development.',\n",
       " 'The office of human resources has work with faculty members to develop blended on the job training for US administrative staff in data literacy and I some pleased to share that close to five thousand admins staff have completed the first level of data literacy course as well as the first level of ai competency course.']"
      ]
     },
     "execution_count": 191,
     "metadata": {},
     "output_type": "execute_result"
    }
   ],
   "source": [
    "final_sentences"
   ]
  },
  {
   "cell_type": "markdown",
   "id": "a31d6c78-a12f-4eda-a676-8d3fce39a38a",
   "metadata": {},
   "source": [
    "# Summarize this transcript \"&lt;srt file contents &gt;\".  In the summary, use very short sentences and do not use abbreviations and titles"
   ]
  },
  {
   "cell_type": "code",
   "execution_count": 66,
   "id": "0344daf4-c866-432e-8766-9962a5b8c7fe",
   "metadata": {},
   "outputs": [],
   "source": [
    "# chat_gpt_summary =  \"The transcript is from the opening of an event, likely a conference, where the host introduces key guests, \"+\\\n",
    "# \"including the Minister for Education, Chan Chun Seng, and other distinguished individuals like keynote speaker James Lander \"+\\\n",
    "# \"and National University of Singapore President Tan Eng Chai. \"+\\\n",
    "# \"The event is the second edition of the National University of Singapore Lifelong Learning Festival, with a focus on 'Artificial Intelligence in Action.' \"+\\\n",
    "# \"The National University of Singapore President emphasizes the transformative power of artificial intelligence, comparing it to the advent of personal  \"+\\\n",
    "# \"computers and the internet. He discusses the university's efforts in artificial intelligence research, including the establishment of an  \"+\\\n",
    "# \"artificial intelligence institute aimed at accelerating research and promoting real-world applications. The President also highlights initiatives  \"+\\\n",
    "# \"to integrate artificial intelligence into teaching, learning, and university operations, including staff training in artificial intelligence and  \"+\\\n",
    "# \"data literacy. The event is positioned as a critical moment in the artificial intelligence revolution, urging participants to embrace and innovate  \"+\\\n",
    "# \"with new technologies.\"\n",
    "\n",
    "chat_gpt_summary = \"The speaker welcomes the audience. \"+\\\n",
    "\"The event is the NUS Lifelong Learning Festival. \"+\\\n",
    "\"The theme is AI in action. The focus is on how AI is transforming industries and work. \"+\\\n",
    "\"NUS has started an AI institute to advance research and partnerships. The institute also addresses \"+\\\n",
    "\"ethical concerns. NUS is using AI in teaching, learning, and administration. \"+\\\n",
    "\"Workshops guide staff and students on AI use. Around 5,000 staff completed courses in data literacy and AI\""
   ]
  },
  {
   "cell_type": "code",
   "execution_count": 170,
   "id": "ea59526a-5f89-47f5-bc67-9b0fbfc17ede",
   "metadata": {},
   "outputs": [],
   "source": [
    "chatgpt_summary_sentences = []\n",
    "\n",
    "for sentence in chat_gpt_summary.split(\".\"):\n",
    "    chatgpt_summary_sentences.append(sentence.strip()+\".\")"
   ]
  },
  {
   "cell_type": "code",
   "execution_count": 171,
   "id": "9f23cbf6-9374-4a81-8f6e-2392a781e3e2",
   "metadata": {},
   "outputs": [
    {
     "data": {
      "text/plain": [
       "['The speaker welcomes the audience.',\n",
       " 'The event is the NUS Lifelong Learning Festival.',\n",
       " 'The theme is AI in action.',\n",
       " 'The focus is on how AI is transforming industries and work.',\n",
       " 'NUS has started an AI institute to advance research and partnerships.',\n",
       " 'The institute also addresses ethical concerns.',\n",
       " 'NUS is using AI in teaching, learning, and administration.',\n",
       " 'Workshops guide staff and students on AI use.',\n",
       " 'Around 5,000 staff completed courses in data literacy and AI.']"
      ]
     },
     "execution_count": 171,
     "metadata": {},
     "output_type": "execute_result"
    }
   ],
   "source": [
    "chatgpt_summary_sentences"
   ]
  },
  {
   "cell_type": "code",
   "execution_count": null,
   "id": "dd366a05-52bb-4e4c-94a4-9849c86a0477",
   "metadata": {},
   "outputs": [],
   "source": []
  },
  {
   "cell_type": "code",
   "execution_count": null,
   "id": "b4cbb697-1e70-4d39-9bdc-bee22a35a2ed",
   "metadata": {},
   "outputs": [],
   "source": []
  },
  {
   "cell_type": "code",
   "execution_count": 200,
   "id": "9576e97b-1b1b-44ea-95f9-391b32fce285",
   "metadata": {},
   "outputs": [],
   "source": [
    "# Find time lengths\n",
    "\n",
    "with open(\"NUS-FutureWork-first10.json\") as f:\n",
    "    speechmatic_json = json.load(f)\n",
    "f.close()"
   ]
  },
  {
   "cell_type": "code",
   "execution_count": 201,
   "id": "f4535b26-7a2d-4905-8976-f0354dcdd321",
   "metadata": {},
   "outputs": [],
   "source": [
    "\n",
    "# # One way - Needs more work\n",
    "\n",
    "# time_segs = []\n",
    "# for word_ind, word in enumerate(speechmatic_json['results']):\n",
    "#     if 'is_eos' in word and word['is_eos']:\n",
    "#         time_segs.append(word['end_time'] - word['start_time'])\n",
    "# len(time_segs), len(final_sentences)"
   ]
  },
  {
   "cell_type": "code",
   "execution_count": 216,
   "id": "65ecb4a8-6311-444c-8ffe-61708d3b4214",
   "metadata": {},
   "outputs": [
    {
     "name": "stdout",
     "output_type": "stream",
     "text": [
      "Please put your hand to | Mr\n",
      "9.83 10.31\n",
      "1 ----\n",
      "Chan Chun Seang A very | Mr\n",
      "15.89 16.28\n",
      "2 ----\n",
      "Chan Chee Seng , Keynote | festival\n",
      "68.47 68.71\n",
      "3 ----\n",
      "My name is jawi and | morning\n",
      "92.59 92.8\n",
      "4 ----\n",
      "The theme for this years | area\n",
      "99.37 99.52\n",
      "5 ----\n",
      "We are so grateful that | wife\n",
      "113.59 113.77\n",
      "6 ----\n",
      "Before we begin a quick | briefing\n",
      "124.72 125.05\n",
      "8 ----\n",
      "In case of emergency Please | state\n",
      "128.71 128.86\n",
      "9 ----\n",
      "Or at the back of | instructions\n",
      "134.32 134.47\n",
      "10 ----\n",
      "We would like to invite | Thanks\n",
      "144.04 144.13\n",
      "12 ----\n",
      "Chan Chuncheon , the Guest | Friends\n",
      "168.4 168.64\n",
      "14 ----\n",
      "Good morning and I bet | table\n",
      "173.44 173.62\n",
      "15 ----\n",
      "The theme for this year's | action\n",
      "184.14 184.29\n",
      "16 ----\n",
      "Many of us have already | action\n",
      "195.58 195.88\n",
      "18 ----\n",
      "We will have the privilege | deploy\n",
      "213.97 214.18\n",
      "20 ----\n",
      "The changes are as broad | journey\n",
      "227.29 227.47\n",
      "21 ----\n",
      "We are in the watershed | revolution\n",
      "237.76 237.91\n",
      "22 ----\n",
      "Some of US here to | period\n",
      "244.57 244.93\n",
      "23 ----\n",
      "Nearly forty years ago where | later\n",
      "250.92 251.22\n",
      "24 ----\n",
      "The transformative power of the | internet\n",
      "269.7 269.94\n",
      "25 ----\n",
      "Prank could granted with the | Technologies\n",
      "280.02 280.2\n",
      "26 ----\n",
      "We must be open excited | changer\n",
      "284.1 284.31\n",
      "27 ----\n",
      "We are actively positioning ourselves | Front\n",
      "299.64 299.85\n",
      "28 ----\n",
      "We established the US a | March\n",
      "309.98 310.16\n",
      "29 ----\n",
      "This year and this brings | Impact\n",
      "314.54 314.84\n",
      "30 ----\n",
      "They say Institut of Forster | Partnerships\n",
      "329.93 330.11\n",
      "31 ----\n",
      "And this also in the | forth\n",
      "349.85 350.06\n",
      "32 ----\n",
      "This institute will also conduct | Accountability\n",
      "362.69 362.96\n",
      "33 ----\n",
      "To address etika concerns and | Learning\n",
      "373.81 373.99\n",
      "34 ----\n",
      "So in February twenty twenty | end\n",
      "392.44 392.68\n",
      "35 ----\n",
      "since the beginning of this | learning\n",
      "416.59 416.89\n",
      "36 ----\n",
      "So i choose also being | cases\n",
      "458.81 458.99\n",
      "37 ----\n",
      "For example , using ai | development\n",
      "512.12 512.33\n",
      "38 ----\n",
      "The office of human resources | course\n",
      "521.18 521.42\n",
      "39 ----\n"
     ]
    },
    {
     "data": {
      "text/plain": [
       "(34, 34)"
      ]
     },
     "execution_count": 216,
     "metadata": {},
     "output_type": "execute_result"
    }
   ],
   "source": [
    "start_times = []\n",
    "end_times = []\n",
    "time_segs = []\n",
    "final_timed_sentences = []\n",
    "cnt = 0\n",
    "for ind, final_sentence in enumerate(final_sentences):\n",
    "    final_sentence_tokens = []\n",
    "    start_time = 0\n",
    "    end_time = 0\n",
    "    for final_sentence_token in final_sentence.split(' '):\n",
    "        if final_sentence_token.endswith(','):\n",
    "            final_sentence_tokens.append(final_sentence_token.replace(',',''))\n",
    "            final_sentence_tokens.append(',') #separate comma token\n",
    "        else:\n",
    "            final_sentence_tokens.append(final_sentence_token)\n",
    "        \n",
    "    # for tk in final_sentence_tokens:\n",
    "    if len(final_sentence_tokens) > 5:\n",
    "        print(final_sentence_tokens[0], final_sentence_tokens[1], final_sentence_tokens[2], final_sentence_tokens[3], final_sentence_tokens[4],'|', final_sentence_tokens[-1].split('.')[0])\n",
    "        for word_ind, word in enumerate(speechmatic_json['results']):\n",
    "            if word['alternatives'][0]['content'].lower() == final_sentence_tokens[0].lower() and \\\n",
    "                speechmatic_json['results'][word_ind+1]['alternatives'][0]['content'].lower() == final_sentence_tokens[1].lower() and \\\n",
    "                speechmatic_json['results'][word_ind+2]['alternatives'][0]['content'].lower() == final_sentence_tokens[2].lower() and \\\n",
    "                speechmatic_json['results'][word_ind+3]['alternatives'][0]['content'].lower() == final_sentence_tokens[3].lower() and \\\n",
    "                speechmatic_json['results'][word_ind+4]['alternatives'][0]['content'].lower() == final_sentence_tokens[4].lower():\n",
    "                print(word['start_time'], word['end_time'])\n",
    "                time_segs.append(word['end_time'] - word['start_time'])\n",
    "                final_timed_sentences.append(final_sentence)\n",
    "                start_times.append(word['start_time'])\n",
    "                end_times.append(word['end_time'])\n",
    "        print(ind, '----')\n",
    "len(time_segs), len(final_timed_sentences)        "
   ]
  },
  {
   "cell_type": "code",
   "execution_count": 217,
   "id": "ce6e26e7-2b47-4a44-86ec-d0c29871a66f",
   "metadata": {},
   "outputs": [
    {
     "name": "stdout",
     "output_type": "stream",
     "text": [
      "0.4800000000000004 Please put your hand to gather to welcome all guest of owner Minister for education Mr.\n",
      "0.39000000000000057 Chan Chun Seang A very good morning to gasthof owner Minister for education, Mr.\n",
      "0.23999999999999488 Chan Chee Seng, Keynote Speaker Prof James Lander and Yours President Prof Tan Eng Chai, Deputy President of Academic Affairs and Provost, Prof Aren't and Distinguished Guest, Alumni and Partners Here are Nurses and tuning in online Welcome to future works to point to the second edition of the nus lifelong learning festival.\n",
      "0.20999999999999375 My name is jawi and a proud ulama staff member of nus and ummc for this morning.\n",
      "0.14999999999999147 The theme for this years conference is a infection and we are grateful that so many industry leaders and experts have the general sale of their time today to share their invaluable experiences in this area.\n",
      "0.1799999999999926 We are so grateful that you have taken the time to attend the conference and we hope that you will live with the insights connections and inspiration for our future wife.\n",
      "0.3299999999999983 Before we begin a quick safety and evacuation briefing.\n",
      "0.15000000000000568 In case of emergency Please evacuate to dxd behind the state.\n",
      "0.15000000000000568 Or at the back of the hall to the assembly earlier outside and do not enter the building and further instructions.\n",
      "0.09000000000000341 We would like to invite NS President Prof Tan Eng Chai to give the Welcome Actress Thanks.\n",
      "0.23999999999998067 Chan Chuncheon, the Guest, Colleges Alumni and Friends.\n",
      "0.18000000000000682 Good morning and I bet you a warm welcome to the second edition of the nus lifelong learning table.\n",
      "0.15000000000000568 The theme for this year's learning Festival is future work to point zero i in action.\n",
      "0.29999999999998295 Many of us have already heard much about what I can do as promise and as parrots may sound like a paradox but i is for real and in action.\n",
      "0.21000000000000796 We will have the privilege of hearing from industry leaders on how they are using ai in their organizations with complex them to deploy.\n",
      "0.18000000000000682 The changes are as broad about and how They are bringing the workforce on this new ai journey.\n",
      "0.15000000000000568 We are in the watershed moment at the cap of ai revolution.\n",
      "0.36000000000001364 Some of US here to wave Grand Heroes will require similar period.\n",
      "0.30000000000001137 Nearly forty years ago where personal computers came to the workplace Putting the power of computing into individual hands replacing Panama, Paper Records and type writer's jacket or show later.\n",
      "0.2400000000000091 The transformative power of the PC Worlds attached to a whole new level by the emergence of the internet.\n",
      "0.18000000000000682 Prank could granted with the advantage of New Technologies.\n",
      "0.20999999999997954 We must be open excited and innovative about the opportunities that new technologies can bring and us recognizes that eye is a game changer.\n",
      "0.21000000000003638 We are actively positioning ourselves to right the potential of ai On the Research Front.\n",
      "0.18000000000000682 We established the US a Institute in March.\n",
      "0.2999999999999545 This year and this brings together I Researchers from across the university to accelerate Frontier I research as well as to boost real World Impact.\n",
      "0.18000000000000682 They say Institut of Forster a vibrant ecosystem that promotes synergistic A research and applications as well as to grow the talent pool And to engage the Goverment excellence industry in Partnerships.\n",
      "0.20999999999997954 And this also in the areas of education Healthcare finance, Sustainability logistics magnet factoring and so on and so forth.\n",
      "0.2699999999999818 This institute will also conduct research on how to regulate And to safeguard Transparency and Accountability.\n",
      "0.18000000000000682 To address etika concerns and risk associated with I And us has also been proactive like guiding and encouraging The integration of aI In our teaching and Learning.\n",
      "0.2400000000000091 So in February twenty twenty last year end up and guess crafted end interim policy and this is a first of its scene Singapore institutions to provide guidance on staff uses of a while and also how to manage students use of a high end.\n",
      "0.30000000000001137 since the beginning of this year The center for training learning and technology has been offering a range of a workshops on topics such as using generative a for cost design question generation and assessments and use it as to form a community of practice and this is to exchange ideas Share resources promote best practices and also set community standards for the use of ai in teaching and learning.\n",
      "0.18000000000000682 So i choose also being rode out across various aspects of our penetration and operational work and use it as both generative ai of a platform for our us community using retrieval, augmented generation process and all model such as open ai ppt and Google jamani This platform helps our staff to get answers for and use specific questions such as quarry his own and us policies and and use it as also works department's to use a life to improve productivity across a wide range of use cases.\n",
      "0.21000000000003638 For example, using ai to access pupils and as part of learning and development.\n",
      "0.2400000000000091 The office of human resources has work with faculty members to develop blended on the job training for US administrative staff in data literacy and I some pleased to share that close to five thousand admins staff have completed the first level of data literacy course as well as the first level of ai competency course.\n"
     ]
    }
   ],
   "source": [
    "for sent_ind, sent in enumerate(final_timed_sentences):\n",
    "    print(time_segs[sent_ind], sent)"
   ]
  },
  {
   "cell_type": "code",
   "execution_count": null,
   "id": "38de0dcd-6cfc-4f7e-b4f8-279597251a8a",
   "metadata": {},
   "outputs": [],
   "source": []
  },
  {
   "cell_type": "code",
   "execution_count": null,
   "id": "990c9e42-fae7-41ab-86bc-dff53788c673",
   "metadata": {},
   "outputs": [],
   "source": []
  },
  {
   "cell_type": "code",
   "execution_count": 59,
   "id": "063769d9-6f50-4df4-b0d8-13120d801b4a",
   "metadata": {},
   "outputs": [],
   "source": [
    "# 1. Load a pretrained Sentence Transformer model\n",
    "model = SentenceTransformer(\"all-MiniLM-L6-v2\")"
   ]
  },
  {
   "cell_type": "code",
   "execution_count": 210,
   "id": "25d2efee-497e-4bfa-8bc9-d36657e9585a",
   "metadata": {},
   "outputs": [],
   "source": [
    "chatgpt_embeddings = model.encode(chatgpt_summary_sentences)\n",
    "final_sentences_embeddings = model.encode(final_sentences)"
   ]
  },
  {
   "cell_type": "code",
   "execution_count": 211,
   "id": "0d4ff4a0-9eea-400d-bc6d-0c78a1613f57",
   "metadata": {},
   "outputs": [],
   "source": [
    "similarities = model.similarity(chatgpt_embeddings, final_sentences_embeddings) # Not used\n",
    "\n",
    "\n",
    "cos = torch.nn.CosineSimilarity(dim=0, eps=1e-6)\n",
    "cos_similarities = []\n",
    "for chatgpt_embedding in chatgpt_embeddings:\n",
    "    chatgpt_sim = []\n",
    "    for final_sentences_embedding in final_sentences_embeddings:\n",
    "        chatgpt_sim.append(cos(torch.from_numpy(chatgpt_embedding), torch.from_numpy(final_sentences_embedding)).numpy())\n",
    "    cos_similarities.append(chatgpt_sim)"
   ]
  },
  {
   "cell_type": "code",
   "execution_count": 212,
   "id": "0878e0bf-1826-4f0d-ba7b-2620ae7b6c80",
   "metadata": {},
   "outputs": [
    {
     "name": "stdout",
     "output_type": "stream",
     "text": [
      "The speaker welcomes the audience. ==> We would like to invite NS President Prof Tan Eng Chai to give the Welcome Actress Thanks.\n",
      "--------\n",
      "The event is the NUS Lifelong Learning Festival. ==> The theme for this year's learning Festival is future work to point zero i in action.\n",
      "--------\n",
      "The theme is AI in action. ==> We are actively positioning ourselves to right the potential of ai On the Research Front.\n",
      "--------\n",
      "The focus is on how AI is transforming industries and work. ==> The changes are as broad about and how They are bringing the workforce on this new ai journey.\n",
      "--------\n",
      "NUS has started an AI institute to advance research and partnerships. ==> We are actively positioning ourselves to right the potential of ai On the Research Front.\n",
      "--------\n",
      "The institute also addresses ethical concerns. ==> This institute will also conduct research on how to regulate And to safeguard Transparency and Accountability.\n",
      "--------\n",
      "NUS is using AI in teaching, learning, and administration. ==> For example, using ai to access pupils and as part of learning and development.\n",
      "--------\n",
      "Workshops guide staff and students on AI use. ==> For example, using ai to access pupils and as part of learning and development.\n",
      "--------\n",
      "Around 5,000 staff completed courses in data literacy and AI. ==> The office of human resources has work with faculty members to develop blended on the job training for US administrative staff in data literacy and I some pleased to share that close to five thousand admins staff have completed the first level of data literacy course as well as the first level of ai competency course.\n",
      "--------\n"
     ]
    }
   ],
   "source": [
    "for i in range(len(chatgpt_summary_sentences)):\n",
    "    print(chatgpt_summary_sentences[i], '==>', final_sentences[np.argmax(cos_similarities[i])])\n",
    "    print('--------')"
   ]
  },
  {
   "cell_type": "code",
   "execution_count": 195,
   "id": "e01832e6-c2d1-45a8-ac0c-0fdc3a11550e",
   "metadata": {},
   "outputs": [
    {
     "data": {
      "text/plain": [
       "['Ladies and gentlemen.',\n",
       " 'Please put your hand to gather to welcome all guest of owner Minister for education Mr.',\n",
       " 'Chan Chun Seang A very good morning to gasthof owner Minister for education, Mr.',\n",
       " \"Chan Chee Seng, Keynote Speaker Prof James Lander and Yours President Prof Tan Eng Chai, Deputy President of Academic Affairs and Provost, Prof Aren't and Distinguished Guest, Alumni and Partners Here are Nurses and tuning in online Welcome to future works to point to the second edition of the nus lifelong learning festival.\",\n",
       " 'My name is jawi and a proud ulama staff member of nus and ummc for this morning.',\n",
       " 'The theme for this years conference is a infection and we are grateful that so many industry leaders and experts have the general sale of their time today to share their invaluable experiences in this area.',\n",
       " 'We are so grateful that you have taken the time to attend the conference and we hope that you will live with the insights connections and inspiration for our future wife.',\n",
       " 'I.',\n",
       " 'Before we begin a quick safety and evacuation briefing.',\n",
       " 'In case of emergency Please evacuate to dxd behind the state.',\n",
       " 'Or at the back of the hall to the assembly earlier outside and do not enter the building and further instructions.',\n",
       " \"Now let's get started.\",\n",
       " 'We would like to invite NS President Prof Tan Eng Chai to give the Welcome Actress Thanks.',\n",
       " 'Detective for Education, Mr.',\n",
       " 'Chan Chuncheon, the Guest, Colleges Alumni and Friends.',\n",
       " 'Good morning and I bet you a warm welcome to the second edition of the nus lifelong learning table.',\n",
       " \"The theme for this year's learning Festival is future work to point zero i in action.\",\n",
       " 'The emphasis is on action.',\n",
       " 'Many of us have already heard much about what I can do as promise and as parrots may sound like a paradox but i is for real and in action.',\n",
       " 'Transforming Works and Industries today.',\n",
       " 'We will have the privilege of hearing from industry leaders on how they are using ai in their organizations with complex them to deploy.',\n",
       " 'The changes are as broad about and how They are bringing the workforce on this new ai journey.',\n",
       " 'We are in the watershed moment at the cap of ai revolution.',\n",
       " 'Some of US here to wave Grand Heroes will require similar period.',\n",
       " \"Nearly forty years ago where personal computers came to the workplace Putting the power of computing into individual hands replacing Panama, Paper Records and type writer's jacket or show later.\",\n",
       " 'The transformative power of the PC Worlds attached to a whole new level by the emergence of the internet.',\n",
       " 'Prank could granted with the advantage of New Technologies.',\n",
       " 'We must be open excited and innovative about the opportunities that new technologies can bring and us recognizes that eye is a game changer.',\n",
       " 'We are actively positioning ourselves to right the potential of ai On the Research Front.',\n",
       " 'We established the US a Institute in March.',\n",
       " 'This year and this brings together I Researchers from across the university to accelerate Frontier I research as well as to boost real World Impact.',\n",
       " 'They say Institut of Forster a vibrant ecosystem that promotes synergistic A research and applications as well as to grow the talent pool And to engage the Goverment excellence industry in Partnerships.',\n",
       " 'And this also in the areas of education Healthcare finance, Sustainability logistics magnet factoring and so on and so forth.',\n",
       " 'This institute will also conduct research on how to regulate And to safeguard Transparency and Accountability.',\n",
       " 'To address etika concerns and risk associated with I And us has also been proactive like guiding and encouraging The integration of aI In our teaching and Learning.',\n",
       " 'So in February twenty twenty last year end up and guess crafted end interim policy and this is a first of its scene Singapore institutions to provide guidance on staff uses of a while and also how to manage students use of a high end.',\n",
       " 'since the beginning of this year The center for training learning and technology has been offering a range of a workshops on topics such as using generative a for cost design question generation and assessments and use it as to form a community of practice and this is to exchange ideas Share resources promote best practices and also set community standards for the use of ai in teaching and learning.',\n",
       " \"So i choose also being rode out across various aspects of our penetration and operational work and use it as both generative ai of a platform for our us community using retrieval, augmented generation process and all model such as open ai ppt and Google jamani This platform helps our staff to get answers for and use specific questions such as quarry his own and us policies and and use it as also works department's to use a life to improve productivity across a wide range of use cases.\",\n",
       " 'For example, using ai to access pupils and as part of learning and development.',\n",
       " 'The office of human resources has work with faculty members to develop blended on the job training for US administrative staff in data literacy and I some pleased to share that close to five thousand admins staff have completed the first level of data literacy course as well as the first level of ai competency course.']"
      ]
     },
     "execution_count": 195,
     "metadata": {},
     "output_type": "execute_result"
    }
   ],
   "source": [
    "final_sentences"
   ]
  },
  {
   "cell_type": "code",
   "execution_count": 196,
   "id": "b4415692-1a9c-45e9-9b07-ee63d00ba087",
   "metadata": {},
   "outputs": [],
   "source": []
  },
  {
   "cell_type": "code",
   "execution_count": 197,
   "id": "c79a5a52-1f2f-4dda-8e6c-bd4cc7eab8f5",
   "metadata": {},
   "outputs": [],
   "source": []
  },
  {
   "cell_type": "code",
   "execution_count": null,
   "id": "c8ff5662-40b9-4dea-ab61-bffa8e1cf816",
   "metadata": {},
   "outputs": [],
   "source": []
  },
  {
   "cell_type": "code",
   "execution_count": null,
   "id": "7d5c125b-3920-4882-b1e4-50b445d2997c",
   "metadata": {},
   "outputs": [],
   "source": []
  },
  {
   "cell_type": "code",
   "execution_count": null,
   "id": "b7e2bae5-d73f-4b9e-be5b-de1fb46852e8",
   "metadata": {},
   "outputs": [],
   "source": []
  },
  {
   "cell_type": "code",
   "execution_count": 82,
   "id": "4d1308ac-1b56-4665-9a47-649762426a0e",
   "metadata": {},
   "outputs": [],
   "source": []
  },
  {
   "cell_type": "code",
   "execution_count": 83,
   "id": "7f5d60d3-819f-4b39-89cb-96790ea46c47",
   "metadata": {},
   "outputs": [
    {
     "data": {
      "text/plain": [
       "959"
      ]
     },
     "execution_count": 83,
     "metadata": {},
     "output_type": "execute_result"
    }
   ],
   "source": [
    "len(speechmatic_json['results'])"
   ]
  },
  {
   "cell_type": "code",
   "execution_count": null,
   "id": "4fdf449a-3523-46b5-9b63-e606d81f2987",
   "metadata": {},
   "outputs": [],
   "source": []
  },
  {
   "cell_type": "code",
   "execution_count": null,
   "id": "b7abeea2-bf14-4e10-b9ef-c0f842bd9e9e",
   "metadata": {},
   "outputs": [],
   "source": []
  },
  {
   "cell_type": "code",
   "execution_count": null,
   "id": "1371d8a0-d7fa-4287-9d37-6c52650564b3",
   "metadata": {},
   "outputs": [],
   "source": []
  }
 ],
 "metadata": {
  "kernelspec": {
   "display_name": "video-summaries",
   "language": "python",
   "name": "video-summaries"
  },
  "language_info": {
   "codemirror_mode": {
    "name": "ipython",
    "version": 3
   },
   "file_extension": ".py",
   "mimetype": "text/x-python",
   "name": "python",
   "nbconvert_exporter": "python",
   "pygments_lexer": "ipython3",
   "version": "3.10.15"
  }
 },
 "nbformat": 4,
 "nbformat_minor": 5
}
